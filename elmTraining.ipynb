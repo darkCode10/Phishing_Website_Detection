{
 "cells": [
  {
   "cell_type": "code",
   "execution_count": 62,
   "metadata": {},
   "outputs": [],
   "source": [
    "##from elm_model import ELM\n",
    "import pickle\n",
    "from sklearn.model_selection import train_test_split\n",
    "from sklearn.metrics import accuracy_score,classification_report,precision_score,recall_score,f1_score,confusion_matrix"
   ]
  },
  {
   "cell_type": "code",
   "execution_count": 4,
   "metadata": {},
   "outputs": [],
   "source": [
    "with open('processed_data.pkl','rb') as file:\n",
    "    processed_data=pickle.load(file)"
   ]
  },
  {
   "cell_type": "code",
   "execution_count": 5,
   "metadata": {},
   "outputs": [
    {
     "data": {
      "text/html": [
       "<div>\n",
       "<style scoped>\n",
       "    .dataframe tbody tr th:only-of-type {\n",
       "        vertical-align: middle;\n",
       "    }\n",
       "\n",
       "    .dataframe tbody tr th {\n",
       "        vertical-align: top;\n",
       "    }\n",
       "\n",
       "    .dataframe thead th {\n",
       "        text-align: right;\n",
       "    }\n",
       "</style>\n",
       "<table border=\"1\" class=\"dataframe\">\n",
       "  <thead>\n",
       "    <tr style=\"text-align: right;\">\n",
       "      <th></th>\n",
       "      <th>Prefix_Suffix</th>\n",
       "      <th>having_Sub_Domain</th>\n",
       "      <th>SSLfinal_State</th>\n",
       "      <th>Domain_registeration_length</th>\n",
       "      <th>Request_URL</th>\n",
       "      <th>URL_of_Anchor</th>\n",
       "      <th>Links_in_tags</th>\n",
       "      <th>SFH</th>\n",
       "      <th>web_traffic</th>\n",
       "      <th>Google_Index</th>\n",
       "      <th>Links_pointing_to_page</th>\n",
       "      <th>Result</th>\n",
       "    </tr>\n",
       "  </thead>\n",
       "  <tbody>\n",
       "    <tr>\n",
       "      <th>0</th>\n",
       "      <td>-1</td>\n",
       "      <td>-1</td>\n",
       "      <td>-1</td>\n",
       "      <td>-1</td>\n",
       "      <td>1</td>\n",
       "      <td>-1</td>\n",
       "      <td>1</td>\n",
       "      <td>-1</td>\n",
       "      <td>-1</td>\n",
       "      <td>1</td>\n",
       "      <td>1</td>\n",
       "      <td>0</td>\n",
       "    </tr>\n",
       "    <tr>\n",
       "      <th>1</th>\n",
       "      <td>-1</td>\n",
       "      <td>0</td>\n",
       "      <td>1</td>\n",
       "      <td>-1</td>\n",
       "      <td>1</td>\n",
       "      <td>0</td>\n",
       "      <td>-1</td>\n",
       "      <td>-1</td>\n",
       "      <td>0</td>\n",
       "      <td>1</td>\n",
       "      <td>1</td>\n",
       "      <td>0</td>\n",
       "    </tr>\n",
       "    <tr>\n",
       "      <th>2</th>\n",
       "      <td>-1</td>\n",
       "      <td>-1</td>\n",
       "      <td>-1</td>\n",
       "      <td>-1</td>\n",
       "      <td>1</td>\n",
       "      <td>0</td>\n",
       "      <td>-1</td>\n",
       "      <td>-1</td>\n",
       "      <td>1</td>\n",
       "      <td>1</td>\n",
       "      <td>0</td>\n",
       "      <td>0</td>\n",
       "    </tr>\n",
       "    <tr>\n",
       "      <th>3</th>\n",
       "      <td>-1</td>\n",
       "      <td>-1</td>\n",
       "      <td>-1</td>\n",
       "      <td>1</td>\n",
       "      <td>-1</td>\n",
       "      <td>0</td>\n",
       "      <td>0</td>\n",
       "      <td>-1</td>\n",
       "      <td>1</td>\n",
       "      <td>1</td>\n",
       "      <td>-1</td>\n",
       "      <td>0</td>\n",
       "    </tr>\n",
       "    <tr>\n",
       "      <th>4</th>\n",
       "      <td>-1</td>\n",
       "      <td>1</td>\n",
       "      <td>1</td>\n",
       "      <td>-1</td>\n",
       "      <td>1</td>\n",
       "      <td>0</td>\n",
       "      <td>0</td>\n",
       "      <td>-1</td>\n",
       "      <td>0</td>\n",
       "      <td>1</td>\n",
       "      <td>1</td>\n",
       "      <td>1</td>\n",
       "    </tr>\n",
       "  </tbody>\n",
       "</table>\n",
       "</div>"
      ],
      "text/plain": [
       "   Prefix_Suffix  having_Sub_Domain  SSLfinal_State  \\\n",
       "0             -1                 -1              -1   \n",
       "1             -1                  0               1   \n",
       "2             -1                 -1              -1   \n",
       "3             -1                 -1              -1   \n",
       "4             -1                  1               1   \n",
       "\n",
       "   Domain_registeration_length  Request_URL  URL_of_Anchor  Links_in_tags  \\\n",
       "0                           -1            1             -1              1   \n",
       "1                           -1            1              0             -1   \n",
       "2                           -1            1              0             -1   \n",
       "3                            1           -1              0              0   \n",
       "4                           -1            1              0              0   \n",
       "\n",
       "   SFH  web_traffic  Google_Index  Links_pointing_to_page  Result  \n",
       "0   -1           -1             1                       1       0  \n",
       "1   -1            0             1                       1       0  \n",
       "2   -1            1             1                       0       0  \n",
       "3   -1            1             1                      -1       0  \n",
       "4   -1            0             1                       1       1  "
      ]
     },
     "execution_count": 5,
     "metadata": {},
     "output_type": "execute_result"
    }
   ],
   "source": [
    "processed_data.head()"
   ]
  },
  {
   "cell_type": "code",
   "execution_count": 95,
   "metadata": {},
   "outputs": [
    {
     "data": {
      "text/plain": [
       "'import numpy as np\\n\\ndef Sigmoid(x):\\n    return 1/(1+np.exp(-x))\\n\\nclass ELM:\\n    def __init__(self,n_features,h_neurons,n_classes):\\n        self.features=n_features\\n        self.h_neurons=h_neurons\\n        self.targets=n_classes\\n        self.input_weights=np.random.randn(n_features,h_neurons)\\n        self.biases=np.random.randn(h_neurons)\\n    \\n    def fit(self,X_trian,y_train):\\n        H=Sigmoid(np.dot(X_trian,self.input_weights)+self.biases)\\n        H_pinv=np.linalg.pinv(H)\\n        self.beta=np.dot(H_pinv,y_train)\\n\\n    def predict(self,X_test):\\n        H=Sigmoid(np.dot(X_test,self.input_weights)+self.biases)\\n        Y=np.dot(H,self.beta)\\n       \\n        return (Y > 0.5).astype(int)\\n    \\nprint(\"Hello Updated 2\")'"
      ]
     },
     "execution_count": 95,
     "metadata": {},
     "output_type": "execute_result"
    }
   ],
   "source": [
    "'''import numpy as np\n",
    "\n",
    "def Sigmoid(x):\n",
    "    return 1/(1+np.exp(-x))\n",
    "\n",
    "class ELM:\n",
    "    def __init__(self,n_features,h_neurons,n_classes):\n",
    "        self.features=n_features\n",
    "        self.h_neurons=h_neurons\n",
    "        self.targets=n_classes\n",
    "        self.input_weights=np.random.randn(n_features,h_neurons)\n",
    "        self.biases=np.random.randn(h_neurons)\n",
    "    \n",
    "    def fit(self,X_trian,y_train):\n",
    "        H=Sigmoid(np.dot(X_trian,self.input_weights)+self.biases)\n",
    "        H_pinv=np.linalg.pinv(H)\n",
    "        self.beta=np.dot(H_pinv,y_train)\n",
    "\n",
    "    def predict(self,X_test):\n",
    "        H=Sigmoid(np.dot(X_test,self.input_weights)+self.biases)\n",
    "        Y=np.dot(H,self.beta)\n",
    "       \n",
    "        return (Y > 0.5).astype(int)\n",
    "    \n",
    "print(\"Hello Updated 2\")'''\n",
    "    "
   ]
  },
  {
   "cell_type": "code",
   "execution_count": 11,
   "metadata": {},
   "outputs": [],
   "source": [
    "X=processed_data.drop(columns=['Result'])\n",
    "y=processed_data['Result']"
   ]
  },
  {
   "cell_type": "code",
   "execution_count": 50,
   "metadata": {},
   "outputs": [],
   "source": [
    "X_trian,X_test,y_train,y_test=train_test_split(X,y,test_size=0.3,random_state=42)\n"
   ]
  },
  {
   "cell_type": "code",
   "execution_count": 121,
   "metadata": {},
   "outputs": [],
   "source": [
    "from elmModel import ELM"
   ]
  },
  {
   "cell_type": "code",
   "execution_count": 128,
   "metadata": {},
   "outputs": [],
   "source": [
    "elm=ELM(n_features=X.shape[1],h_neurons=200,n_classes=y.nunique())"
   ]
  },
  {
   "cell_type": "code",
   "execution_count": 129,
   "metadata": {},
   "outputs": [],
   "source": [
    "elm.fit(X_trian,y_train)"
   ]
  },
  {
   "cell_type": "code",
   "execution_count": 125,
   "metadata": {},
   "outputs": [],
   "source": [
    "\n",
    "#print(\"Accuracy: \",accuracy_score(y_test,pred))\n",
    "##print(\"Classification Report: \\n\",classification_report(y_test,pred))\n",
    "#print(\"Precision: \",precision_score(y_test,pred))\n",
    "#print(\"Recall: \",recall_score(y_test,pred))\n",
    "#print(\"F1 Score: \",f1_score(y_test,pred))\n",
    "#print(\"Confusion Matrix: \",confusion_matrix(y_test,pred))"
   ]
  },
  {
   "cell_type": "code",
   "execution_count": 130,
   "metadata": {},
   "outputs": [
    {
     "data": {
      "text/plain": [
       "array([0, 0, 0, ..., 1, 1, 1])"
      ]
     },
     "execution_count": 130,
     "metadata": {},
     "output_type": "execute_result"
    }
   ],
   "source": [
    "pred=elm.predict(X_test)\n",
    "pred"
   ]
  },
  {
   "cell_type": "code",
   "execution_count": 90,
   "metadata": {},
   "outputs": [],
   "source": [
    "elm_evaluation={\n",
    "    'precision':precision_score(y_test,pred),\n",
    "    'recall':recall_score(y_test,pred),\n",
    "    'f1_score':f1_score(y_test,pred),\n",
    "    'accuracy':accuracy_score(y_test,pred),\n",
    "    'classification':classification_report(y_test,pred,output_dict=True),\n",
    "    'confusion_matrix':confusion_matrix(y_test,pred).tolist()\n",
    "    \n",
    "}"
   ]
  },
  {
   "cell_type": "code",
   "execution_count": 88,
   "metadata": {},
   "outputs": [],
   "source": [
    "with open('elm_evaluation.pkl','wb') as file:\n",
    "    pickle.dump(elm_evaluation,file)"
   ]
  },
  {
   "cell_type": "code",
   "execution_count": 102,
   "metadata": {},
   "outputs": [
    {
     "data": {
      "text/plain": [
       "['elm_model.pkl']"
      ]
     },
     "execution_count": 102,
     "metadata": {},
     "output_type": "execute_result"
    }
   ],
   "source": [
    "import joblib\n",
    "joblib.dump(elm,'elm_model.pkl')"
   ]
  },
  {
   "cell_type": "code",
   "execution_count": null,
   "metadata": {},
   "outputs": [],
   "source": []
  }
 ],
 "metadata": {
  "kernelspec": {
   "display_name": "Python 3",
   "language": "python",
   "name": "python3"
  },
  "language_info": {
   "codemirror_mode": {
    "name": "ipython",
    "version": 3
   },
   "file_extension": ".py",
   "mimetype": "text/x-python",
   "name": "python",
   "nbconvert_exporter": "python",
   "pygments_lexer": "ipython3",
   "version": "3.12.0"
  },
  "orig_nbformat": 4
 },
 "nbformat": 4,
 "nbformat_minor": 2
}
